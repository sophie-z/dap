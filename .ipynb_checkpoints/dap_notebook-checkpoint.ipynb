{
 "cells": [
  {
   "cell_type": "markdown",
   "id": "255e57da-3a9a-42fb-ac2a-0243c186c89a",
   "metadata": {},
   "source": [
    "<h1>Replication — Lifetime prevalence of owner-reported medical conditions in the 25 most common dog breeds in the Dog Aging Project pack</h1>\n",
    "https://www.frontiersin.org/journals/veterinary-science/articles/10.3389/fvets.2023.1140417/full#h13"
   ]
  },
  {
   "cell_type": "markdown",
   "id": "0d7c07d5-e576-4908-86aa-439f24fd94a7",
   "metadata": {},
   "source": [
    "<b>DATA</b> <br>\n",
    "Forsyth et al. (2023) used an older version of the Dog Aging Project data release which is now unavailable, but specified it was \"data collected from 27,541 dogs enrolled in the DAP Pack between December 26, 2019 and December 31, 2020.\" Filtering the 2022 Curated Data Release for data between these two dates, we find 27,460 rows and 35 columns. <br>\n",
    "\n",
    "<b>DATA COMPARISON WITH FORSYTH ET AL. (2023)</b> <br>\n",
    "The distribution of pure vs mixed breed dogs in our dataset is slightly different than that of Forsyth et al. (2023)'s. We count 14277 purebred dogs (52.0%) and 13233 mixed breed dogs (48.0%), while Forsyth et al. (2023) counted 13618 purebred dogs (49.4%) and 13,923 mixed breed dogs (50.6%). <br>\n",
    "\n",
    "<b>MERGING DATASETS</b> <br>\n",
    "Now, using an inner join to merge the dog overview dataset with the health and cancer conditions datasets based on the column dog_id, we find only XXXX rows and XXX columns."
   ]
  },
  {
   "cell_type": "code",
   "execution_count": 2,
   "id": "b177169e-d924-41b8-9044-81e77e8f9365",
   "metadata": {},
   "outputs": [],
   "source": [
    "import numpy as np\n",
    "import pandas as pd\n",
    "import matplotlib.pyplot as plt\n",
    "import seaborn as sns\n",
    "\n",
    "# reading all of our datasets\n",
    "dog_overview = pd.read_csv('DAP_2022_DogOverview_v1.0.csv', low_memory=False) # 43517 rows 35 cols\n",
    "dog_owner = pd.read_csv('DAP_2022_HLES_dog_owner_v1.0.csv', low_memory=False) # 43517 rows 933 cols\n",
    "health_conditions = pd.read_csv('DAP_2022_HLES_health_condition_v1.0.csv', low_memory=False) # 119271 rows 12 cols\n",
    "cancer_conditions = pd.read_csv('DAP_2022_HLES_cancer_conditions_v1.0.csv', low_memory=False) # 2762 rows 90 cols"
   ]
  },
  {
   "cell_type": "code",
   "execution_count": null,
   "id": "5c96c318-ea44-493a-a552-034437a2de12",
   "metadata": {},
   "outputs": [],
   "source": []
  }
 ],
 "metadata": {
  "kernelspec": {
   "display_name": "Python 3 (ipykernel)",
   "language": "python",
   "name": "python3"
  },
  "language_info": {
   "codemirror_mode": {
    "name": "ipython",
    "version": 3
   },
   "file_extension": ".py",
   "mimetype": "text/x-python",
   "name": "python",
   "nbconvert_exporter": "python",
   "pygments_lexer": "ipython3",
   "version": "3.10.9"
  }
 },
 "nbformat": 4,
 "nbformat_minor": 5
}
